{
  "nbformat": 4,
  "nbformat_minor": 0,
  "metadata": {
    "colab": {
      "name": "basic programs.ipynb",
      "provenance": []
    },
    "kernelspec": {
      "name": "python3",
      "display_name": "Python 3"
    }
  },
  "cells": [
    {
      "cell_type": "code",
      "metadata": {
        "id": "OL07y66dP7lL",
        "colab": {
          "base_uri": "https://localhost:8080/",
          "height": 34
        },
        "outputId": "06e48a60-d8f8-46fb-d315-082cc3765988"
      },
      "source": [
        "# This program adds two numbers\n",
        "\n",
        "num1 = 1.5\n",
        "num2 = 6.3\n",
        "\n",
        "# Add two numbers\n",
        "sum = num1 + num2\n",
        "\n",
        "# Display the sum\n",
        "print('The sum of {0} and {1} is {2}'.format(num1, num2, sum))\n"
      ],
      "execution_count": null,
      "outputs": [
        {
          "output_type": "stream",
          "text": [
            "The sum of 1.5 and 6.3 is 7.8\n"
          ],
          "name": "stdout"
        }
      ]
    },
    {
      "cell_type": "markdown",
      "metadata": {
        "id": "BSx64E1CQPRw"
      },
      "source": [
        "In simple way"
      ]
    },
    {
      "cell_type": "code",
      "metadata": {
        "id": "bEA4stqSQAEQ",
        "colab": {
          "base_uri": "https://localhost:8080/",
          "height": 34
        },
        "outputId": "601e7834-fda2-4d2b-ec08-301b7fe23cdc"
      },
      "source": [
        "\n",
        "num1 = 1.5\n",
        "num2 = 6.3\n",
        "sum = num1 + num2\n",
        "print(\"The sum is \" + str(sum))"
      ],
      "execution_count": null,
      "outputs": [
        {
          "output_type": "stream",
          "text": [
            "The sum is 7.8\n"
          ],
          "name": "stdout"
        }
      ]
    },
    {
      "cell_type": "code",
      "metadata": {
        "id": "27T95GdLQbPr",
        "colab": {
          "base_uri": "https://localhost:8080/",
          "height": 67
        },
        "outputId": "5bfa9c35-3f0b-4027-c9eb-fa4f1b8d69a8"
      },
      "source": [
        "num1 = input('Enter first number: ')\n",
        "num2 = input('Enter second number: ')\n",
        "\n",
        "# Add two numbers\n",
        "sum = float(num1) + float(num2)\n",
        "\n",
        "# Display the sum\n",
        "print('The sum of {0} and {1} is {2}'.format(num1, num2, sum))"
      ],
      "execution_count": null,
      "outputs": [
        {
          "output_type": "stream",
          "text": [
            "Enter first number: 1.5\n",
            "Enter second number: 6.3\n",
            "The sum of 1.5 and 6.3 is 7.8\n"
          ],
          "name": "stdout"
        }
      ]
    },
    {
      "cell_type": "markdown",
      "metadata": {
        "id": "WP7c9i6nQ_BP"
      },
      "source": [
        "OR"
      ]
    },
    {
      "cell_type": "code",
      "metadata": {
        "id": "maejyN82Q1SM",
        "colab": {
          "base_uri": "https://localhost:8080/",
          "height": 67
        },
        "outputId": "5bf1707f-2e20-4300-8c96-4face5db4966"
      },
      "source": [
        "num1=input(\"enter first number:\")\n",
        "num2=input(\"enter the second number:\")\n",
        "sum=float(num1)+float(num2)\n",
        "print(\"The final number is:\" + str(sum))"
      ],
      "execution_count": null,
      "outputs": [
        {
          "output_type": "stream",
          "text": [
            "enter first number:1.5\n",
            "enter the second number:6.30\n",
            "The final number is:7.8\n"
          ],
          "name": "stdout"
        }
      ]
    },
    {
      "cell_type": "code",
      "metadata": {
        "id": "aWVBoXBJSttw",
        "colab": {
          "base_uri": "https://localhost:8080/",
          "height": 34
        },
        "outputId": "0bd1ab6b-3947-47ee-ca83-f3356a45c7b2"
      },
      "source": [
        "# Python Program to calculate the square root\n",
        "\n",
        "# Note: change this value for a different result\n",
        "num = 8 \n",
        "\n",
        "# To take the input from the user\n",
        "#num = float(input('Enter a number: '))\n",
        "\n",
        "num_sqrt = num ** 0.5\n",
        "print('The square root of %0.3f is %0.3f'%(num ,num_sqrt))"
      ],
      "execution_count": null,
      "outputs": [
        {
          "output_type": "stream",
          "text": [
            "The square root of 8.000 is 2.828\n"
          ],
          "name": "stdout"
        }
      ]
    },
    {
      "cell_type": "code",
      "metadata": {
        "id": "zqeiOz_5TY9G",
        "colab": {
          "base_uri": "https://localhost:8080/",
          "height": 34
        },
        "outputId": "d7d94f63-914b-401a-ce4e-adedde343aa7"
      },
      "source": [
        "num=8\n",
        "sqrt=num**0.5\n",
        "print(\"the square root of %0.3f of %0.3f \"%(num,sqrt))"
      ],
      "execution_count": null,
      "outputs": [
        {
          "output_type": "stream",
          "text": [
            "the square root of 8.000 of 2.828 \n"
          ],
          "name": "stdout"
        }
      ]
    },
    {
      "cell_type": "code",
      "metadata": {
        "id": "5WnIHhuvUUz4",
        "colab": {
          "base_uri": "https://localhost:8080/",
          "height": 34
        },
        "outputId": "25c83296-6c79-4698-d482-b1c02a4e6c5e"
      },
      "source": [
        "import cmath\n",
        "num=4\n",
        "sqrt=cmath.sqrt(num)\n",
        "sqrt"
      ],
      "execution_count": null,
      "outputs": [
        {
          "output_type": "execute_result",
          "data": {
            "text/plain": [
              "(2+0j)"
            ]
          },
          "metadata": {
            "tags": []
          },
          "execution_count": 34
        }
      ]
    },
    {
      "cell_type": "code",
      "metadata": {
        "id": "vB7OgUDaVI63",
        "colab": {
          "base_uri": "https://localhost:8080/",
          "height": 151
        },
        "outputId": "dd0b8532-2376-4258-a252-2f9b7cc68ba9"
      },
      "source": [
        "mylist=[1,2,3,4,5,6,7,8]\n",
        "for item in mylist:\n",
        "  print(item)"
      ],
      "execution_count": null,
      "outputs": [
        {
          "output_type": "stream",
          "text": [
            "1\n",
            "2\n",
            "3\n",
            "4\n",
            "5\n",
            "6\n",
            "7\n",
            "8\n"
          ],
          "name": "stdout"
        }
      ]
    },
    {
      "cell_type": "code",
      "metadata": {
        "id": "Dn7NSkBes2EB",
        "colab": {
          "base_uri": "https://localhost:8080/",
          "height": 286
        },
        "outputId": "897c512d-4ad2-4d0d-80fc-240c7e8a5a13"
      },
      "source": [
        "mylist=[1,2,3,4,5,6,7,8]\n",
        "for item in mylist:\n",
        "  print(\"The numbers are:\"+ str(item) +'\\n')"
      ],
      "execution_count": null,
      "outputs": [
        {
          "output_type": "stream",
          "text": [
            "The numbers are:1\n",
            "\n",
            "The numbers are:2\n",
            "\n",
            "The numbers are:3\n",
            "\n",
            "The numbers are:4\n",
            "\n",
            "The numbers are:5\n",
            "\n",
            "The numbers are:6\n",
            "\n",
            "The numbers are:7\n",
            "\n",
            "The numbers are:8\n",
            "\n"
          ],
          "name": "stdout"
        }
      ]
    },
    {
      "cell_type": "markdown",
      "metadata": {
        "id": "qQSudgDYtbQM"
      },
      "source": [
        "printing even numbers in a list:\n"
      ]
    },
    {
      "cell_type": "code",
      "metadata": {
        "id": "ZpE7NC-XthEw",
        "colab": {
          "base_uri": "https://localhost:8080/",
          "height": 185
        },
        "outputId": "6ea01e6a-658f-4b7c-98ef-379cbd5bdc0b"
      },
      "source": [
        "mylist=[1,2,3,4,5,6,7,8,9,10]\n",
        "#priting evens\n",
        "for num in mylist:\n",
        "  if num%2==0:\n",
        "    print(num)\n",
        "  else:\n",
        "    print('odd numbers: ' + str(num))  "
      ],
      "execution_count": null,
      "outputs": [
        {
          "output_type": "stream",
          "text": [
            "odd numbers: 1\n",
            "2\n",
            "odd numbers: 3\n",
            "4\n",
            "odd numbers: 5\n",
            "6\n",
            "odd numbers: 7\n",
            "8\n",
            "odd numbers: 9\n",
            "10\n"
          ],
          "name": "stdout"
        }
      ]
    },
    {
      "cell_type": "code",
      "metadata": {
        "id": "HRB68HlStyWf",
        "colab": {
          "base_uri": "https://localhost:8080/",
          "height": 185
        },
        "outputId": "67a96aa9-e222-4a78-ce47-f2add5fe561c"
      },
      "source": [
        "mylist=[1,2,3,4,5,6,7,8,9,10]\n",
        "#priting evens\n",
        "for num in mylist:\n",
        "  if num%2==0:\n",
        "    print(num)\n",
        "  else:\n",
        "    print(\"an odd number\" + str(num))"
      ],
      "execution_count": null,
      "outputs": [
        {
          "output_type": "stream",
          "text": [
            "an odd number1\n",
            "2\n",
            "an odd number3\n",
            "4\n",
            "an odd number5\n",
            "6\n",
            "an odd number7\n",
            "8\n",
            "an odd number9\n",
            "10\n"
          ],
          "name": "stdout"
        }
      ]
    },
    {
      "cell_type": "code",
      "metadata": {
        "id": "Nu5g-ECLvULO",
        "colab": {
          "base_uri": "https://localhost:8080/",
          "height": 34
        },
        "outputId": "970ad667-9aa8-4144-c557-a0e77667b1c2"
      },
      "source": [
        "mylist=[1,2,3,4,5,6,7,8,9,10]\n",
        "mynum=0\n",
        "for num in mylist:\n",
        "  mynum=mynum + num\n",
        "print(mynum)"
      ],
      "execution_count": null,
      "outputs": [
        {
          "output_type": "stream",
          "text": [
            "55\n"
          ],
          "name": "stdout"
        }
      ]
    },
    {
      "cell_type": "code",
      "metadata": {
        "id": "m33IotHYyPt9",
        "colab": {
          "base_uri": "https://localhost:8080/",
          "height": 185
        },
        "outputId": "245a8a2c-6d26-4be2-84c5-6c1e11e17b9b"
      },
      "source": [
        "mylist=[1,2,3,4,5,6,7,8,9,10]\n",
        "for num in mylist:\n",
        " print(num)\n"
      ],
      "execution_count": null,
      "outputs": [
        {
          "output_type": "stream",
          "text": [
            "1\n",
            "2\n",
            "3\n",
            "4\n",
            "5\n",
            "6\n",
            "7\n",
            "8\n",
            "9\n",
            "10\n"
          ],
          "name": "stdout"
        }
      ]
    },
    {
      "cell_type": "markdown",
      "metadata": {
        "id": "JtmsBRTX3qbk"
      },
      "source": [
        "tuple unpacking"
      ]
    },
    {
      "cell_type": "code",
      "metadata": {
        "id": "miBYkvR53ag6",
        "colab": {
          "base_uri": "https://localhost:8080/",
          "height": 67
        },
        "outputId": "5de1ed6e-8b44-426b-da0d-9d83eab3456c"
      },
      "source": [
        "mylist=[(1,2,3),(4,5,6),(7,8,9,)]\n",
        "for num in mylist:\n",
        "  print(num)\n"
      ],
      "execution_count": null,
      "outputs": [
        {
          "output_type": "stream",
          "text": [
            "(1, 2, 3)\n",
            "(4, 5, 6)\n",
            "(7, 8, 9)\n"
          ],
          "name": "stdout"
        }
      ]
    },
    {
      "cell_type": "code",
      "metadata": {
        "id": "MerXbKyr3yOM",
        "colab": {
          "base_uri": "https://localhost:8080/",
          "height": 168
        },
        "outputId": "82e0b27b-1afd-40df-a82d-be4b941b5b35"
      },
      "source": [
        "mylist=[(1,2,3),(4,5,6),(7,8,9,)]\n",
        "for a,b,c in mylist:\n",
        "  print(a)\n",
        "  print(b)\n",
        "  print(c)"
      ],
      "execution_count": null,
      "outputs": [
        {
          "output_type": "stream",
          "text": [
            "1\n",
            "2\n",
            "3\n",
            "4\n",
            "5\n",
            "6\n",
            "7\n",
            "8\n",
            "9\n"
          ],
          "name": "stdout"
        }
      ]
    },
    {
      "cell_type": "markdown",
      "metadata": {
        "id": "2I3BqMgD4yj7"
      },
      "source": [
        "d"
      ]
    },
    {
      "cell_type": "code",
      "metadata": {
        "id": "kAuqwgxL34Y2",
        "colab": {
          "base_uri": "https://localhost:8080/",
          "height": 84
        },
        "outputId": "c0ef8341-fa2d-40e4-a103-edca74260205"
      },
      "source": [
        "mydic={'key_1':1,'key_2':2,'key_3':3,'key-4':4}\n",
        "for item in mydic:\n",
        "  print(item)"
      ],
      "execution_count": null,
      "outputs": [
        {
          "output_type": "stream",
          "text": [
            "key_1\n",
            "key_2\n",
            "key_3\n",
            "key-4\n"
          ],
          "name": "stdout"
        }
      ]
    },
    {
      "cell_type": "code",
      "metadata": {
        "id": "pI96cl8F5Jdz",
        "colab": {
          "base_uri": "https://localhost:8080/",
          "height": 84
        },
        "outputId": "172c9053-9f98-4020-8fac-27f9d4e71b62"
      },
      "source": [
        "mydic={'key_1':1,'key_2':2,'key_3':3,'key-4':4}\n",
        "for item in mydic.items():\n",
        "  print(item)"
      ],
      "execution_count": null,
      "outputs": [
        {
          "output_type": "stream",
          "text": [
            "('key_1', 1)\n",
            "('key_2', 2)\n",
            "('key_3', 3)\n",
            "('key-4', 4)\n"
          ],
          "name": "stdout"
        }
      ]
    },
    {
      "cell_type": "code",
      "metadata": {
        "id": "jBZr6M1I5fwg",
        "colab": {
          "base_uri": "https://localhost:8080/",
          "height": 151
        },
        "outputId": "7998a497-4e34-4dde-9138-68ef2380936a"
      },
      "source": [
        "mydic={'key_1':1,'key_2':2,'key_3':3,'key-4':4}\n",
        "for item,values in mydic.items():\n",
        "  print(item)\n",
        "  print(values)\n",
        "  "
      ],
      "execution_count": null,
      "outputs": [
        {
          "output_type": "stream",
          "text": [
            "key_1\n",
            "1\n",
            "key_2\n",
            "2\n",
            "key_3\n",
            "3\n",
            "key-4\n",
            "4\n"
          ],
          "name": "stdout"
        }
      ]
    },
    {
      "cell_type": "code",
      "metadata": {
        "id": "-86t0YrU5wut",
        "colab": {
          "base_uri": "https://localhost:8080/",
          "height": 84
        },
        "outputId": "925ba83d-8a1b-4c0c-f385-a5189764e6bb"
      },
      "source": [
        "mydic={'key_1':1,'key_2':2,'key_3':3,'key-4':4}\n",
        "for values in mydic.values():\n",
        "  print(values)"
      ],
      "execution_count": null,
      "outputs": [
        {
          "output_type": "stream",
          "text": [
            "1\n",
            "2\n",
            "3\n",
            "4\n"
          ],
          "name": "stdout"
        }
      ]
    },
    {
      "cell_type": "code",
      "metadata": {
        "id": "BceTJ6b37ytc",
        "colab": {
          "base_uri": "https://localhost:8080/",
          "height": 128
        },
        "outputId": "78e2d327-5767-4a45-d3ba-e380eea371fb"
      },
      "source": [
        "#1 Importing the libraries\n",
        "import numpy as np \n",
        "import pandas as pd\n",
        "import matplotlib.pyplot as plt\n",
        "#2 Importing the dataset:\n",
        "dataset = pd.read_csv(/content/50_Startups.csv)\n",
        "#Y: dependent variable vector\n",
        "#In the first run X’s type is object due to the different types of #independent variables.State column contains categorical variables\n",
        "X= dataset.iloc[:, :-1].values\n",
        "Y=dataset.iloc[:, 4].values\n",
        "#3 Encoding the categorical variables:\n",
        "from sklearn.preprocessing import LabelEncoder, OneHotEncoder\n",
        "labelencoder_X = LabelEncoder()\n",
        "#Change the text into numbers 0,1,2\n",
        "X[: ,3]= labelencoder_X.fit_transform(X[: ,3])\n",
        "onehotencoder= OneHotEncoder(categorical_features=[3])\n",
        "#turn the numbers to dummy variables. Each column represents one #state compare the X and dataset tables to understand the #relationship between the state and the columns\n",
        "X= onehotencoder.fit_transform(X).toarray()\n",
        "#4 Avoid the dummy variables trap\n",
        "#Delete the first column represent the California\n",
        "X= X[:, 1:]\n",
        "#5 Splitting the dataset into the Training and Test dataset\n",
        "#train_set_split: Split arrays or matrices into random train and #test subsets. %20 of the dataset to the test set\n",
        "from sklearn.model_selection import train_test_split\n",
        "X_train, X_test, Y_train, Y_test = train_test_split( X, Y, test_size=0.2, random_state=0)\n",
        "#6 Fit multiple Linear Regression model to our Train set\n",
        "from sklearn.linear_model import LinearRegression\n",
        "#Create an object called regressor in the LinearRegression class…\n",
        "regressor = LinearRegression()\n",
        "#Fit the linear regression model to the training set… We use the fit #method the arguments of the fit method will be training sets\n",
        " \n",
        "regressor.fit(X_train,Y_train)\n",
        "#7 Predicting the Test set results:\n",
        "y_pred= regressor.predict(X_test)"
      ],
      "execution_count": null,
      "outputs": [
        {
          "output_type": "error",
          "ename": "SyntaxError",
          "evalue": "ignored",
          "traceback": [
            "\u001b[0;36m  File \u001b[0;32m\"<ipython-input-6-72f13c89f7c7>\"\u001b[0;36m, line \u001b[0;32m6\u001b[0m\n\u001b[0;31m    dataset = pd.read_csv(/content/50_Startups.csv)\u001b[0m\n\u001b[0m                          ^\u001b[0m\n\u001b[0;31mSyntaxError\u001b[0m\u001b[0;31m:\u001b[0m invalid syntax\n"
          ]
        }
      ]
    }
  ]
}